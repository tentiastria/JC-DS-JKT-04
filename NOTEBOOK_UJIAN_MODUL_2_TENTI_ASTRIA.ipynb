{
 "cells": [
  {
   "cell_type": "markdown",
   "metadata": {},
   "source": [
    "# Ujian Modul 2 - Purwadhika Data Science JC Program\n",
    "\n",
    "## Context - Taken from Kaggle\n",
    "Did you know that claims can be filed against TSA? Sometimes US Terminal Security Agency (TSA) makes mistakes. People can get hurt and property can be damaged, lost, or stolen. Claims are generally filed against TSA for personal injuries and lost or damaged property during screenings and they keep records of every claim!\n",
    "\n",
    "### Content\n",
    "The dataset includes claims filed between 2002 through 2015.\n",
    "\n",
    "1. Claim Number\n",
    "1. Date Received\n",
    "1. Incident Date\n",
    "1. Airport Code\n",
    "1. Airport Name\n",
    "1. Airline Name\n",
    "1. Claim Type\n",
    "1. Claim Site\n",
    "1. Item\n",
    "1. Claim Amount\n",
    "1. Status\n",
    "1. Close Amount\n",
    "1. Disposition\n",
    "\n",
    "This data is coming from the Kaggle Dataset that contain the data of clain the been filed into the TSA. We would try to explore the data and clean the data partially (we would not clean and analyze everything as it would take more time than necessary) and we would only use 25% data from the original dataset.\n",
    "\n",
    "This exam scoring would be explained below:\n",
    "\n",
    "- This Notebook would have total score of 70 (+ 10 Bonus POINT for Bonus Question), which consist of:\n",
    "    - 40 POINT for the Question part (10 point for each question)\n",
    "    - 30 POINT for the preprocessing part by following the guide\n",
    "- The Dashboard would yield 20 POINT\n",
    "- The Maximum Score would be still 100, Bonus Question is just a Bonus. Work it if you have an extra time and already sure about all your other answer (or not sure about the other question, and need this bonus question to help)\n",
    "\n",
    "When you finish, upload your notebook contain all the answers and the script for the dashboard to your github. You do not need to upload the .csv file. "
   ]
  },
  {
   "cell_type": "markdown",
   "metadata": {},
   "source": [
    "Try to read the data and show all the important info first. For starter, try to understand what each column represent."
   ]
  },
  {
   "cell_type": "code",
   "execution_count": 1,
   "metadata": {
    "ExecuteTime": {
     "end_time": "2019-10-12T18:25:33.696101Z",
     "start_time": "2019-10-12T18:25:30.439737Z"
    }
   },
   "outputs": [],
   "source": [
    "import pandas as pd\n",
    "import numpy as np\n",
    "import matplotlib.pyplot as plt\n",
    "import seaborn as sns\n",
    "import re\n",
    "%matplotlib inline"
   ]
  },
  {
   "cell_type": "code",
   "execution_count": 2,
   "metadata": {
    "ExecuteTime": {
     "end_time": "2019-10-12T18:25:33.862002Z",
     "start_time": "2019-10-12T18:25:33.697102Z"
    }
   },
   "outputs": [],
   "source": [
    "dfUjian = pd.read_csv('tsa_claims_ujian.csv')"
   ]
  },
  {
   "cell_type": "code",
   "execution_count": 3,
   "metadata": {},
   "outputs": [
    {
     "data": {
      "text/html": [
       "<div>\n",
       "<style scoped>\n",
       "    .dataframe tbody tr th:only-of-type {\n",
       "        vertical-align: middle;\n",
       "    }\n",
       "\n",
       "    .dataframe tbody tr th {\n",
       "        vertical-align: top;\n",
       "    }\n",
       "\n",
       "    .dataframe thead th {\n",
       "        text-align: right;\n",
       "    }\n",
       "</style>\n",
       "<table border=\"1\" class=\"dataframe\">\n",
       "  <thead>\n",
       "    <tr style=\"text-align: right;\">\n",
       "      <th></th>\n",
       "      <th>Claim Number</th>\n",
       "      <th>Date Received</th>\n",
       "      <th>Incident Date</th>\n",
       "      <th>Airport Code</th>\n",
       "      <th>Airport Name</th>\n",
       "      <th>Airline Name</th>\n",
       "      <th>Claim Type</th>\n",
       "      <th>Claim Site</th>\n",
       "      <th>Item</th>\n",
       "      <th>Claim Amount</th>\n",
       "      <th>Status</th>\n",
       "      <th>Close Amount</th>\n",
       "      <th>Disposition</th>\n",
       "    </tr>\n",
       "  </thead>\n",
       "  <tbody>\n",
       "    <tr>\n",
       "      <th>0</th>\n",
       "      <td>0909816M</td>\n",
       "      <td>7-Feb-02</td>\n",
       "      <td>1/6/2003 0:00</td>\n",
       "      <td>MIA</td>\n",
       "      <td>Miami International Airport</td>\n",
       "      <td>American Airlines</td>\n",
       "      <td>Property Damage</td>\n",
       "      <td>Checkpoint</td>\n",
       "      <td>Luggage (all types including footlockers)</td>\n",
       "      <td>$50.00</td>\n",
       "      <td>Approved</td>\n",
       "      <td>$50.00</td>\n",
       "      <td>Approve in Full</td>\n",
       "    </tr>\n",
       "    <tr>\n",
       "      <th>1</th>\n",
       "      <td>14268</td>\n",
       "      <td>20-Jun-02</td>\n",
       "      <td>6/16/2002 0:00</td>\n",
       "      <td>PHX</td>\n",
       "      <td>Phoenix Sky Harbor International</td>\n",
       "      <td>NaN</td>\n",
       "      <td>Property Damage</td>\n",
       "      <td>Checkpoint</td>\n",
       "      <td>Computer - Laptop</td>\n",
       "      <td>$2;270.09</td>\n",
       "      <td>Canceled</td>\n",
       "      <td>NaN</td>\n",
       "      <td>NaN</td>\n",
       "    </tr>\n",
       "    <tr>\n",
       "      <th>2</th>\n",
       "      <td>15242</td>\n",
       "      <td>12-Jul-02</td>\n",
       "      <td>5/31/2002 0:00</td>\n",
       "      <td>BWI</td>\n",
       "      <td>Baltimore/Washington Intl Thurgood Marshall</td>\n",
       "      <td>American Airlines</td>\n",
       "      <td>NaN</td>\n",
       "      <td>Other</td>\n",
       "      <td>Luggage (all types including footlockers)</td>\n",
       "      <td>$200.00</td>\n",
       "      <td>Denied</td>\n",
       "      <td>$0.00</td>\n",
       "      <td>Deny</td>\n",
       "    </tr>\n",
       "    <tr>\n",
       "      <th>3</th>\n",
       "      <td>16759</td>\n",
       "      <td>21-Aug-02</td>\n",
       "      <td>7/12/2002 0:00</td>\n",
       "      <td>BWI</td>\n",
       "      <td>Baltimore/Washington Intl Thurgood Marshall</td>\n",
       "      <td>Southwest Airlines</td>\n",
       "      <td>Passenger Property Loss</td>\n",
       "      <td>Checkpoint</td>\n",
       "      <td>Other</td>\n",
       "      <td>$21.44</td>\n",
       "      <td>Approved</td>\n",
       "      <td>$21.00</td>\n",
       "      <td>Approve in Full</td>\n",
       "    </tr>\n",
       "    <tr>\n",
       "      <th>4</th>\n",
       "      <td>17846</td>\n",
       "      <td>9-Sep-02</td>\n",
       "      <td>8/30/2002 0:00</td>\n",
       "      <td>BOS</td>\n",
       "      <td>Boston (Logan) International Airport</td>\n",
       "      <td>NaN</td>\n",
       "      <td>Property Damage</td>\n",
       "      <td>Checkpoint</td>\n",
       "      <td>Luggage (all types including footlockers)</td>\n",
       "      <td>$1;832.22</td>\n",
       "      <td>Canceled</td>\n",
       "      <td>$0.00</td>\n",
       "      <td>NaN</td>\n",
       "    </tr>\n",
       "  </tbody>\n",
       "</table>\n",
       "</div>"
      ],
      "text/plain": [
       "  Claim Number Date Received   Incident Date Airport Code  \\\n",
       "0     0909816M      7-Feb-02   1/6/2003 0:00          MIA   \n",
       "1        14268     20-Jun-02  6/16/2002 0:00          PHX   \n",
       "2        15242     12-Jul-02  5/31/2002 0:00          BWI   \n",
       "3        16759     21-Aug-02  7/12/2002 0:00          BWI   \n",
       "4        17846      9-Sep-02  8/30/2002 0:00          BOS   \n",
       "\n",
       "                                  Airport Name        Airline Name  \\\n",
       "0                  Miami International Airport   American Airlines   \n",
       "1             Phoenix Sky Harbor International                 NaN   \n",
       "2  Baltimore/Washington Intl Thurgood Marshall   American Airlines   \n",
       "3  Baltimore/Washington Intl Thurgood Marshall  Southwest Airlines   \n",
       "4         Boston (Logan) International Airport                 NaN   \n",
       "\n",
       "                Claim Type  Claim Site  \\\n",
       "0          Property Damage  Checkpoint   \n",
       "1          Property Damage  Checkpoint   \n",
       "2                      NaN       Other   \n",
       "3  Passenger Property Loss  Checkpoint   \n",
       "4          Property Damage  Checkpoint   \n",
       "\n",
       "                                        Item Claim Amount    Status  \\\n",
       "0  Luggage (all types including footlockers)      $50.00   Approved   \n",
       "1                          Computer - Laptop   $2;270.09   Canceled   \n",
       "2  Luggage (all types including footlockers)     $200.00     Denied   \n",
       "3                                      Other      $21.44   Approved   \n",
       "4  Luggage (all types including footlockers)   $1;832.22   Canceled   \n",
       "\n",
       "  Close Amount      Disposition  \n",
       "0      $50.00   Approve in Full  \n",
       "1          NaN              NaN  \n",
       "2       $0.00              Deny  \n",
       "3      $21.00   Approve in Full  \n",
       "4       $0.00               NaN  "
      ]
     },
     "execution_count": 3,
     "metadata": {},
     "output_type": "execute_result"
    }
   ],
   "source": [
    "dfUjian.head()"
   ]
  },
  {
   "cell_type": "code",
   "execution_count": 4,
   "metadata": {
    "ExecuteTime": {
     "end_time": "2019-10-12T18:25:33.876991Z",
     "start_time": "2019-10-12T18:25:33.862944Z"
    }
   },
   "outputs": [
    {
     "data": {
      "text/html": [
       "<div>\n",
       "<style scoped>\n",
       "    .dataframe tbody tr th:only-of-type {\n",
       "        vertical-align: middle;\n",
       "    }\n",
       "\n",
       "    .dataframe tbody tr th {\n",
       "        vertical-align: top;\n",
       "    }\n",
       "\n",
       "    .dataframe thead th {\n",
       "        text-align: right;\n",
       "    }\n",
       "</style>\n",
       "<table border=\"1\" class=\"dataframe\">\n",
       "  <thead>\n",
       "    <tr style=\"text-align: right;\">\n",
       "      <th></th>\n",
       "      <th>Claim Number</th>\n",
       "      <th>Date Received</th>\n",
       "      <th>Incident Date</th>\n",
       "      <th>Airport Code</th>\n",
       "      <th>Airport Name</th>\n",
       "      <th>Airline Name</th>\n",
       "      <th>Claim Type</th>\n",
       "      <th>Claim Site</th>\n",
       "      <th>Item</th>\n",
       "      <th>Claim Amount</th>\n",
       "      <th>Status</th>\n",
       "      <th>Close Amount</th>\n",
       "      <th>Disposition</th>\n",
       "    </tr>\n",
       "  </thead>\n",
       "  <tbody>\n",
       "    <tr>\n",
       "      <th>51061</th>\n",
       "      <td>2015110926685</td>\n",
       "      <td>22-Oct-15</td>\n",
       "      <td>19-Oct-15</td>\n",
       "      <td>-</td>\n",
       "      <td>-</td>\n",
       "      <td>-</td>\n",
       "      <td>Property Damage</td>\n",
       "      <td>Checked Baggage</td>\n",
       "      <td>Baggage/Cases/Purses</td>\n",
       "      <td>-</td>\n",
       "      <td>-</td>\n",
       "      <td>NaN</td>\n",
       "      <td>NaN</td>\n",
       "    </tr>\n",
       "    <tr>\n",
       "      <th>51062</th>\n",
       "      <td>2015110226479</td>\n",
       "      <td>2-Nov-15</td>\n",
       "      <td>2-Nov-15</td>\n",
       "      <td>-</td>\n",
       "      <td>-</td>\n",
       "      <td>-</td>\n",
       "      <td>Passenger Property Loss</td>\n",
       "      <td>Checkpoint</td>\n",
       "      <td>Books; Magazines &amp; Other</td>\n",
       "      <td>-</td>\n",
       "      <td>-</td>\n",
       "      <td>NaN</td>\n",
       "      <td>NaN</td>\n",
       "    </tr>\n",
       "    <tr>\n",
       "      <th>51063</th>\n",
       "      <td>2015120727336</td>\n",
       "      <td>16-Nov-15</td>\n",
       "      <td>14-Sep-15</td>\n",
       "      <td>-</td>\n",
       "      <td>-</td>\n",
       "      <td>American Airlines</td>\n",
       "      <td>Passenger Property Loss</td>\n",
       "      <td>Checked Baggage</td>\n",
       "      <td>Cosmetics &amp; Grooming</td>\n",
       "      <td>-</td>\n",
       "      <td>-</td>\n",
       "      <td>NaN</td>\n",
       "      <td>NaN</td>\n",
       "    </tr>\n",
       "    <tr>\n",
       "      <th>51064</th>\n",
       "      <td>2015120427297</td>\n",
       "      <td>20-Nov-15</td>\n",
       "      <td>16-Oct-15</td>\n",
       "      <td>-</td>\n",
       "      <td>-</td>\n",
       "      <td>-</td>\n",
       "      <td>Property Damage</td>\n",
       "      <td>Checked Baggage</td>\n",
       "      <td>Baggage/Cases/Purses; Books; Magazines &amp; Other...</td>\n",
       "      <td>-</td>\n",
       "      <td>-</td>\n",
       "      <td>NaN</td>\n",
       "      <td>NaN</td>\n",
       "    </tr>\n",
       "    <tr>\n",
       "      <th>51065</th>\n",
       "      <td>2016010428072</td>\n",
       "      <td>22-Dec-15</td>\n",
       "      <td>20-Dec-15</td>\n",
       "      <td>-</td>\n",
       "      <td>-</td>\n",
       "      <td>-</td>\n",
       "      <td>Passenger Property Loss</td>\n",
       "      <td>Checked Baggage</td>\n",
       "      <td>Clothing</td>\n",
       "      <td>-</td>\n",
       "      <td>-</td>\n",
       "      <td>NaN</td>\n",
       "      <td>NaN</td>\n",
       "    </tr>\n",
       "  </tbody>\n",
       "</table>\n",
       "</div>"
      ],
      "text/plain": [
       "        Claim Number Date Received Incident Date Airport Code Airport Name  \\\n",
       "51061  2015110926685     22-Oct-15     19-Oct-15            -            -   \n",
       "51062  2015110226479      2-Nov-15      2-Nov-15            -            -   \n",
       "51063  2015120727336     16-Nov-15     14-Sep-15            -            -   \n",
       "51064  2015120427297     20-Nov-15     16-Oct-15            -            -   \n",
       "51065  2016010428072     22-Dec-15     20-Dec-15            -            -   \n",
       "\n",
       "            Airline Name               Claim Type       Claim Site  \\\n",
       "51061                  -          Property Damage  Checked Baggage   \n",
       "51062                  -  Passenger Property Loss       Checkpoint   \n",
       "51063  American Airlines  Passenger Property Loss  Checked Baggage   \n",
       "51064                  -          Property Damage  Checked Baggage   \n",
       "51065                  -  Passenger Property Loss  Checked Baggage   \n",
       "\n",
       "                                                    Item Claim Amount Status  \\\n",
       "51061                               Baggage/Cases/Purses            -      -   \n",
       "51062                           Books; Magazines & Other            -      -   \n",
       "51063                               Cosmetics & Grooming            -      -   \n",
       "51064  Baggage/Cases/Purses; Books; Magazines & Other...            -      -   \n",
       "51065                                           Clothing            -      -   \n",
       "\n",
       "      Close Amount Disposition  \n",
       "51061          NaN         NaN  \n",
       "51062          NaN         NaN  \n",
       "51063          NaN         NaN  \n",
       "51064          NaN         NaN  \n",
       "51065          NaN         NaN  "
      ]
     },
     "execution_count": 4,
     "metadata": {},
     "output_type": "execute_result"
    }
   ],
   "source": [
    "dfUjian.loc[[51061,51062,51063,51064,51065]]\n"
   ]
  },
  {
   "cell_type": "code",
   "execution_count": 5,
   "metadata": {},
   "outputs": [
    {
     "name": "stdout",
     "output_type": "stream",
     "text": [
      "<class 'pandas.core.frame.DataFrame'>\n",
      "RangeIndex: 51066 entries, 0 to 51065\n",
      "Data columns (total 13 columns):\n",
      "Claim Number     51066 non-null object\n",
      "Date Received    50996 non-null object\n",
      "Incident Date    50496 non-null object\n",
      "Airport Code     49014 non-null object\n",
      "Airport Name     49014 non-null object\n",
      "Airline Name     42511 non-null object\n",
      "Claim Type       49106 non-null object\n",
      "Claim Site       50876 non-null object\n",
      "Item             50054 non-null object\n",
      "Claim Amount     50074 non-null object\n",
      "Status           51065 non-null object\n",
      "Close Amount     33786 non-null object\n",
      "Disposition      32846 non-null object\n",
      "dtypes: object(13)\n",
      "memory usage: 5.1+ MB\n"
     ]
    }
   ],
   "source": [
    "dfUjian.info()"
   ]
  },
  {
   "cell_type": "code",
   "execution_count": 6,
   "metadata": {},
   "outputs": [
    {
     "data": {
      "text/html": [
       "<div>\n",
       "<style scoped>\n",
       "    .dataframe tbody tr th:only-of-type {\n",
       "        vertical-align: middle;\n",
       "    }\n",
       "\n",
       "    .dataframe tbody tr th {\n",
       "        vertical-align: top;\n",
       "    }\n",
       "\n",
       "    .dataframe thead th {\n",
       "        text-align: right;\n",
       "    }\n",
       "</style>\n",
       "<table border=\"1\" class=\"dataframe\">\n",
       "  <thead>\n",
       "    <tr style=\"text-align: right;\">\n",
       "      <th></th>\n",
       "      <th>dataFeatures</th>\n",
       "      <th>dataType</th>\n",
       "      <th>null</th>\n",
       "      <th>nullPct</th>\n",
       "      <th>unique</th>\n",
       "      <th>uniqueSample</th>\n",
       "    </tr>\n",
       "  </thead>\n",
       "  <tbody>\n",
       "    <tr>\n",
       "      <th>0</th>\n",
       "      <td>Claim Number</td>\n",
       "      <td>object</td>\n",
       "      <td>0</td>\n",
       "      <td>0.00</td>\n",
       "      <td>51065</td>\n",
       "      <td>[2005010372168, 2005021776393]</td>\n",
       "    </tr>\n",
       "    <tr>\n",
       "      <th>1</th>\n",
       "      <td>Date Received</td>\n",
       "      <td>object</td>\n",
       "      <td>70</td>\n",
       "      <td>0.14</td>\n",
       "      <td>3523</td>\n",
       "      <td>[9-Feb-12, 20-Sep-04]</td>\n",
       "    </tr>\n",
       "    <tr>\n",
       "      <th>2</th>\n",
       "      <td>Incident Date</td>\n",
       "      <td>object</td>\n",
       "      <td>570</td>\n",
       "      <td>1.12</td>\n",
       "      <td>10789</td>\n",
       "      <td>[12/19/2010 15:45, 11/24/2009 10:00]</td>\n",
       "    </tr>\n",
       "    <tr>\n",
       "      <th>3</th>\n",
       "      <td>Airport Code</td>\n",
       "      <td>object</td>\n",
       "      <td>2052</td>\n",
       "      <td>4.02</td>\n",
       "      <td>406</td>\n",
       "      <td>[BIL, FOD]</td>\n",
       "    </tr>\n",
       "    <tr>\n",
       "      <th>4</th>\n",
       "      <td>Airport Name</td>\n",
       "      <td>object</td>\n",
       "      <td>2052</td>\n",
       "      <td>4.02</td>\n",
       "      <td>420</td>\n",
       "      <td>[Austin Straubel International, Dallas-Fort Wo...</td>\n",
       "    </tr>\n",
       "    <tr>\n",
       "      <th>5</th>\n",
       "      <td>Airline Name</td>\n",
       "      <td>object</td>\n",
       "      <td>8555</td>\n",
       "      <td>16.75</td>\n",
       "      <td>244</td>\n",
       "      <td>[Malaysian Airline System, Japan Airlines]</td>\n",
       "    </tr>\n",
       "    <tr>\n",
       "      <th>6</th>\n",
       "      <td>Claim Type</td>\n",
       "      <td>object</td>\n",
       "      <td>1960</td>\n",
       "      <td>3.84</td>\n",
       "      <td>9</td>\n",
       "      <td>[Passenger Theft, Motor Vehicle]</td>\n",
       "    </tr>\n",
       "    <tr>\n",
       "      <th>7</th>\n",
       "      <td>Claim Site</td>\n",
       "      <td>object</td>\n",
       "      <td>190</td>\n",
       "      <td>0.37</td>\n",
       "      <td>7</td>\n",
       "      <td>[Bus Station, nan]</td>\n",
       "    </tr>\n",
       "    <tr>\n",
       "      <th>8</th>\n",
       "      <td>Item</td>\n",
       "      <td>object</td>\n",
       "      <td>1012</td>\n",
       "      <td>1.98</td>\n",
       "      <td>1855</td>\n",
       "      <td>[Briefcases; Locks; Locks, Eyeglasses - (inclu...</td>\n",
       "    </tr>\n",
       "    <tr>\n",
       "      <th>9</th>\n",
       "      <td>Claim Amount</td>\n",
       "      <td>object</td>\n",
       "      <td>992</td>\n",
       "      <td>1.94</td>\n",
       "      <td>13249</td>\n",
       "      <td>[$267.30 , $98.93 ]</td>\n",
       "    </tr>\n",
       "    <tr>\n",
       "      <th>10</th>\n",
       "      <td>Status</td>\n",
       "      <td>object</td>\n",
       "      <td>1</td>\n",
       "      <td>0.00</td>\n",
       "      <td>14</td>\n",
       "      <td>[Approved, Denied]</td>\n",
       "    </tr>\n",
       "    <tr>\n",
       "      <th>11</th>\n",
       "      <td>Close Amount</td>\n",
       "      <td>object</td>\n",
       "      <td>17280</td>\n",
       "      <td>33.84</td>\n",
       "      <td>6010</td>\n",
       "      <td>[$128.65 , $71.00 ]</td>\n",
       "    </tr>\n",
       "    <tr>\n",
       "      <th>12</th>\n",
       "      <td>Disposition</td>\n",
       "      <td>object</td>\n",
       "      <td>18220</td>\n",
       "      <td>35.68</td>\n",
       "      <td>4</td>\n",
       "      <td>[Approve in Full, Settle]</td>\n",
       "    </tr>\n",
       "  </tbody>\n",
       "</table>\n",
       "</div>"
      ],
      "text/plain": [
       "     dataFeatures dataType   null  nullPct  unique  \\\n",
       "0    Claim Number   object      0     0.00   51065   \n",
       "1   Date Received   object     70     0.14    3523   \n",
       "2   Incident Date   object    570     1.12   10789   \n",
       "3    Airport Code   object   2052     4.02     406   \n",
       "4    Airport Name   object   2052     4.02     420   \n",
       "5    Airline Name   object   8555    16.75     244   \n",
       "6      Claim Type   object   1960     3.84       9   \n",
       "7      Claim Site   object    190     0.37       7   \n",
       "8            Item   object   1012     1.98    1855   \n",
       "9    Claim Amount   object    992     1.94   13249   \n",
       "10         Status   object      1     0.00      14   \n",
       "11   Close Amount   object  17280    33.84    6010   \n",
       "12    Disposition   object  18220    35.68       4   \n",
       "\n",
       "                                         uniqueSample  \n",
       "0                      [2005010372168, 2005021776393]  \n",
       "1                               [9-Feb-12, 20-Sep-04]  \n",
       "2                [12/19/2010 15:45, 11/24/2009 10:00]  \n",
       "3                                          [BIL, FOD]  \n",
       "4   [Austin Straubel International, Dallas-Fort Wo...  \n",
       "5          [Malaysian Airline System, Japan Airlines]  \n",
       "6                    [Passenger Theft, Motor Vehicle]  \n",
       "7                                  [Bus Station, nan]  \n",
       "8   [Briefcases; Locks; Locks, Eyeglasses - (inclu...  \n",
       "9                                 [$267.30 , $98.93 ]  \n",
       "10                                 [Approved, Denied]  \n",
       "11                                [$128.65 , $71.00 ]  \n",
       "12                          [Approve in Full, Settle]  "
      ]
     },
     "execution_count": 6,
     "metadata": {},
     "output_type": "execute_result"
    }
   ],
   "source": [
    "data2 = pd.DataFrame(dfUjian.columns, columns =['dataFeatures'])\n",
    "data2['dataType'] = data2['dataFeatures'].apply(lambda x :(dfUjian[x].dtype))\n",
    "data2['null'] = data2['dataFeatures'].apply(lambda x : (dfUjian[x].isna().sum()))\n",
    "data2['nullPct'] = data2['dataFeatures'].apply(lambda x: round((dfUjian[x].isna().sum())/len(dfUjian)*100,2))\n",
    "data2['unique'] = data2['dataFeatures'].apply(lambda x : len(dfUjian[x].unique()))  \n",
    "data2['uniqueSample'] = data2['dataFeatures'].apply(lambda x : list(dfUjian[x].drop_duplicates().sample(2).values))                             \n",
    "data2"
   ]
  },
  {
   "cell_type": "code",
   "execution_count": 7,
   "metadata": {
    "ExecuteTime": {
     "end_time": "2019-10-12T18:25:33.889021Z",
     "start_time": "2019-10-12T18:25:33.878502Z"
    }
   },
   "outputs": [
    {
     "name": "stderr",
     "output_type": "stream",
     "text": [
      "C:\\ProgramData\\Anaconda3\\lib\\site-packages\\pandas\\core\\missing.py:44: FutureWarning: elementwise comparison failed; returning scalar instead, but in the future will perform elementwise comparison\n",
      "  mask = arr == x\n"
     ]
    },
    {
     "data": {
      "text/html": [
       "<div>\n",
       "<style scoped>\n",
       "    .dataframe tbody tr th:only-of-type {\n",
       "        vertical-align: middle;\n",
       "    }\n",
       "\n",
       "    .dataframe tbody tr th {\n",
       "        vertical-align: top;\n",
       "    }\n",
       "\n",
       "    .dataframe thead th {\n",
       "        text-align: right;\n",
       "    }\n",
       "</style>\n",
       "<table border=\"1\" class=\"dataframe\">\n",
       "  <thead>\n",
       "    <tr style=\"text-align: right;\">\n",
       "      <th></th>\n",
       "      <th>dataFeatures</th>\n",
       "      <th>dataType</th>\n",
       "      <th>null</th>\n",
       "      <th>nullPct</th>\n",
       "      <th>unique</th>\n",
       "      <th>uniqueSample</th>\n",
       "    </tr>\n",
       "  </thead>\n",
       "  <tbody>\n",
       "    <tr>\n",
       "      <th>0</th>\n",
       "      <td>Claim Number</td>\n",
       "      <td>object</td>\n",
       "      <td>0</td>\n",
       "      <td>0.00</td>\n",
       "      <td>51065</td>\n",
       "      <td>[2005010372168, 2005021776393]</td>\n",
       "    </tr>\n",
       "    <tr>\n",
       "      <th>1</th>\n",
       "      <td>Date Received</td>\n",
       "      <td>object</td>\n",
       "      <td>70</td>\n",
       "      <td>0.14</td>\n",
       "      <td>3523</td>\n",
       "      <td>[9-Feb-12, 20-Sep-04]</td>\n",
       "    </tr>\n",
       "    <tr>\n",
       "      <th>2</th>\n",
       "      <td>Incident Date</td>\n",
       "      <td>object</td>\n",
       "      <td>570</td>\n",
       "      <td>1.12</td>\n",
       "      <td>10789</td>\n",
       "      <td>[12/19/2010 15:45, 11/24/2009 10:00]</td>\n",
       "    </tr>\n",
       "    <tr>\n",
       "      <th>3</th>\n",
       "      <td>Airport Code</td>\n",
       "      <td>object</td>\n",
       "      <td>2052</td>\n",
       "      <td>4.02</td>\n",
       "      <td>406</td>\n",
       "      <td>[BIL, FOD]</td>\n",
       "    </tr>\n",
       "    <tr>\n",
       "      <th>4</th>\n",
       "      <td>Airport Name</td>\n",
       "      <td>object</td>\n",
       "      <td>2052</td>\n",
       "      <td>4.02</td>\n",
       "      <td>420</td>\n",
       "      <td>[Austin Straubel International, Dallas-Fort Wo...</td>\n",
       "    </tr>\n",
       "    <tr>\n",
       "      <th>5</th>\n",
       "      <td>Airline Name</td>\n",
       "      <td>object</td>\n",
       "      <td>8555</td>\n",
       "      <td>16.75</td>\n",
       "      <td>244</td>\n",
       "      <td>[Malaysian Airline System, Japan Airlines]</td>\n",
       "    </tr>\n",
       "    <tr>\n",
       "      <th>6</th>\n",
       "      <td>Claim Type</td>\n",
       "      <td>object</td>\n",
       "      <td>1960</td>\n",
       "      <td>3.84</td>\n",
       "      <td>9</td>\n",
       "      <td>[Passenger Theft, Motor Vehicle]</td>\n",
       "    </tr>\n",
       "    <tr>\n",
       "      <th>7</th>\n",
       "      <td>Claim Site</td>\n",
       "      <td>object</td>\n",
       "      <td>190</td>\n",
       "      <td>0.37</td>\n",
       "      <td>7</td>\n",
       "      <td>[Bus Station, nan]</td>\n",
       "    </tr>\n",
       "    <tr>\n",
       "      <th>8</th>\n",
       "      <td>Item</td>\n",
       "      <td>object</td>\n",
       "      <td>1012</td>\n",
       "      <td>1.98</td>\n",
       "      <td>1855</td>\n",
       "      <td>[Briefcases; Locks; Locks, Eyeglasses - (inclu...</td>\n",
       "    </tr>\n",
       "    <tr>\n",
       "      <th>9</th>\n",
       "      <td>Claim Amount</td>\n",
       "      <td>object</td>\n",
       "      <td>992</td>\n",
       "      <td>1.94</td>\n",
       "      <td>13249</td>\n",
       "      <td>[$267.30 , $98.93 ]</td>\n",
       "    </tr>\n",
       "    <tr>\n",
       "      <th>10</th>\n",
       "      <td>Status</td>\n",
       "      <td>object</td>\n",
       "      <td>1</td>\n",
       "      <td>0.00</td>\n",
       "      <td>14</td>\n",
       "      <td>[Approved, Denied]</td>\n",
       "    </tr>\n",
       "    <tr>\n",
       "      <th>11</th>\n",
       "      <td>Close Amount</td>\n",
       "      <td>object</td>\n",
       "      <td>17280</td>\n",
       "      <td>33.84</td>\n",
       "      <td>6010</td>\n",
       "      <td>[$128.65 , $71.00 ]</td>\n",
       "    </tr>\n",
       "    <tr>\n",
       "      <th>12</th>\n",
       "      <td>Disposition</td>\n",
       "      <td>object</td>\n",
       "      <td>18220</td>\n",
       "      <td>35.68</td>\n",
       "      <td>4</td>\n",
       "      <td>[Approve in Full, Settle]</td>\n",
       "    </tr>\n",
       "  </tbody>\n",
       "</table>\n",
       "</div>"
      ],
      "text/plain": [
       "     dataFeatures dataType   null  nullPct  unique  \\\n",
       "0    Claim Number   object      0     0.00   51065   \n",
       "1   Date Received   object     70     0.14    3523   \n",
       "2   Incident Date   object    570     1.12   10789   \n",
       "3    Airport Code   object   2052     4.02     406   \n",
       "4    Airport Name   object   2052     4.02     420   \n",
       "5    Airline Name   object   8555    16.75     244   \n",
       "6      Claim Type   object   1960     3.84       9   \n",
       "7      Claim Site   object    190     0.37       7   \n",
       "8            Item   object   1012     1.98    1855   \n",
       "9    Claim Amount   object    992     1.94   13249   \n",
       "10         Status   object      1     0.00      14   \n",
       "11   Close Amount   object  17280    33.84    6010   \n",
       "12    Disposition   object  18220    35.68       4   \n",
       "\n",
       "                                         uniqueSample  \n",
       "0                      [2005010372168, 2005021776393]  \n",
       "1                               [9-Feb-12, 20-Sep-04]  \n",
       "2                [12/19/2010 15:45, 11/24/2009 10:00]  \n",
       "3                                          [BIL, FOD]  \n",
       "4   [Austin Straubel International, Dallas-Fort Wo...  \n",
       "5          [Malaysian Airline System, Japan Airlines]  \n",
       "6                    [Passenger Theft, Motor Vehicle]  \n",
       "7                                  [Bus Station, nan]  \n",
       "8   [Briefcases; Locks; Locks, Eyeglasses - (inclu...  \n",
       "9                                 [$267.30 , $98.93 ]  \n",
       "10                                 [Approved, Denied]  \n",
       "11                                [$128.65 , $71.00 ]  \n",
       "12                          [Approve in Full, Settle]  "
      ]
     },
     "execution_count": 7,
     "metadata": {},
     "output_type": "execute_result"
    }
   ],
   "source": [
    "data2.replace(to_replace =\"-\", \n",
    "                 value = np.nan)\n",
    "data2"
   ]
  },
  {
   "cell_type": "code",
   "execution_count": 77,
   "metadata": {},
   "outputs": [
    {
     "ename": "SyntaxError",
     "evalue": "invalid syntax (<ipython-input-77-5b2c71cb6e39>, line 40)",
     "output_type": "error",
     "traceback": [
      "\u001b[1;36m  File \u001b[1;32m\"<ipython-input-77-5b2c71cb6e39>\"\u001b[1;36m, line \u001b[1;32m40\u001b[0m\n\u001b[1;33m    dfUjian[dfUjian['Incident Date'].apply(lambda x : i is in x)]\u001b[0m\n\u001b[1;37m                                                            ^\u001b[0m\n\u001b[1;31mSyntaxError\u001b[0m\u001b[1;31m:\u001b[0m invalid syntax\n"
     ]
    }
   ],
   "source": [
    "dfUjian['Date Received'] = pd.to_datetime(dfUjian['Date Received'])\n",
    "# dfUjian['Incident Date'] = pd.to_datetime(dfUjian['Incident Date'])\n",
    "import re\n",
    "\n",
    "dfUjian[['Incident Date']] = dfUjian[['Incident Date']].apply(lambda x: x.astype('str'))\n",
    "\n",
    "\n",
    "# dfUjian[dfUjian['Incident Date'].str.contains(dfUjian['Incident Date'].apply(lambda x : (re.findall(r'\\-([a-zA-Z_]+)\\-',x))))[0]]\n",
    "# x = dfUjian[dfUjian['Incident Date']\n",
    "# dfUjian[(re.findall(r'\\-([a-zA-Z_]+)\\-',x)[0]) in dfUjian['Incident Date']]\n",
    "\n",
    "# bulan = \n",
    "# for i in dfUjian['Incident Date']:\n",
    "#     if (re.findall(r'\\-([a-zA-Z_]+)\\-',i) != ''): \n",
    "#         bulan.append((re.findall(r'\\-([a-zA-Z_]+)\\-',i)))\n",
    "#     print(bulan)\n",
    "    \n",
    "                     \n",
    "# dfUjian['Incident Date'].apply(check_error, axis = 1)\n",
    "# bulan = ''\n",
    "# for i in range(len(dfUjian['Incident Date'])):\n",
    "# #     error = dfUjian['Incident Date'].apply(lambda x : re.findall(r'\\-([a-zA-Z_]+)\\-',x))\n",
    "#     x = dfUjian['Incident Date'][i]\n",
    "#     error = re.findall(r'\\-([a-zA-Z_]+)\\-',x)\n",
    "#     bulan.append(error)\n",
    "#     print(bulan)\n",
    "    \n",
    "#     dfUjian[dfUjian['Incident Date'].isin(error)]\n",
    "    \n",
    "# list(error)\n",
    "# dfUjian[dfUjian['Incident Date'].isin(error)]\n",
    "\n",
    "# x = dfUjian['Incident Date'].iloc[13729]\n",
    "# match = re.findall(r'\\-([a-zA-Z_]+)\\-',x)\n",
    "# match[0]\n",
    "# dfUjian[dfUjian['Incident Date'].str.contains(match[0])]\n",
    "\n",
    "month = ['JAN','FEB','MAR','APR','MAY','JUN','JUL','AUG','SEP','OCT','NOV','DEC']\n",
    "for i in month:\n",
    "    dfUjian[dfUjian['Incident Date'].apply(lambda x : i is in x)]\n",
    "    \n",
    "# check = dfUjian['Incident Date'].apply(lambda x : re.findall(r'\\-([a-zA-Z_]+)\\-',x))\n",
    "# check\n",
    "\n",
    "# check_ok = check.apply(lambda x : x[0])\n"
   ]
  },
  {
   "cell_type": "code",
   "execution_count": null,
   "metadata": {
    "ExecuteTime": {
     "end_time": "2019-10-12T18:25:33.925952Z",
     "start_time": "2019-10-12T18:25:33.890000Z"
    }
   },
   "outputs": [],
   "source": []
  },
  {
   "cell_type": "code",
   "execution_count": null,
   "metadata": {
    "ExecuteTime": {
     "end_time": "2019-10-12T18:25:34.061017Z",
     "start_time": "2019-10-12T18:25:33.927946Z"
    }
   },
   "outputs": [],
   "source": []
  },
  {
   "cell_type": "code",
   "execution_count": null,
   "metadata": {
    "ExecuteTime": {
     "end_time": "2019-10-12T18:25:34.191977Z",
     "start_time": "2019-10-12T18:25:34.061969Z"
    }
   },
   "outputs": [],
   "source": []
  },
  {
   "cell_type": "markdown",
   "metadata": {},
   "source": [
    "If you notice, there is '-' value that become a filler for an empty value. Replace all these '-' in every column into NaN object"
   ]
  },
  {
   "cell_type": "code",
   "execution_count": null,
   "metadata": {
    "ExecuteTime": {
     "end_time": "2019-10-12T18:25:34.275744Z",
     "start_time": "2019-10-12T18:25:34.194215Z"
    }
   },
   "outputs": [],
   "source": []
  },
  {
   "cell_type": "markdown",
   "metadata": {},
   "source": [
    "Try to convert the Date Received and Incident Date data type into Datetime object. For the Incident Date columns, if you directly try to convert the column into datetime object it would raise an error notice. In that case, try to show the dataframe with the Incident Date column contain all the error.  "
   ]
  },
  {
   "cell_type": "code",
   "execution_count": null,
   "metadata": {
    "ExecuteTime": {
     "end_time": "2019-10-12T18:25:37.541846Z",
     "start_time": "2019-10-12T18:25:34.277654Z"
    }
   },
   "outputs": [],
   "source": []
  },
  {
   "cell_type": "code",
   "execution_count": null,
   "metadata": {
    "ExecuteTime": {
     "end_time": "2019-10-12T18:25:47.296919Z",
     "start_time": "2019-10-12T18:25:37.542785Z"
    }
   },
   "outputs": [],
   "source": []
  },
  {
   "cell_type": "code",
   "execution_count": null,
   "metadata": {
    "ExecuteTime": {
     "end_time": "2019-10-12T18:25:47.319377Z",
     "start_time": "2019-10-12T18:25:47.297954Z"
    }
   },
   "outputs": [],
   "source": []
  },
  {
   "cell_type": "markdown",
   "metadata": {},
   "source": [
    "For the data in the Incident Date column that contain error, replace the year with the year that come from the Date Received column and replace the Incident Date data type into datetime object"
   ]
  },
  {
   "cell_type": "code",
   "execution_count": null,
   "metadata": {
    "ExecuteTime": {
     "end_time": "2019-10-12T18:25:47.328436Z",
     "start_time": "2019-10-12T18:25:47.321949Z"
    }
   },
   "outputs": [],
   "source": []
  },
  {
   "cell_type": "code",
   "execution_count": null,
   "metadata": {
    "ExecuteTime": {
     "end_time": "2019-10-12T18:25:58.911024Z",
     "start_time": "2019-10-12T18:25:47.330756Z"
    }
   },
   "outputs": [],
   "source": []
  },
  {
   "cell_type": "markdown",
   "metadata": {},
   "source": [
    "Check the data info and the dataframe that previously contain the error in their data to see if the data have been properly corrected."
   ]
  },
  {
   "cell_type": "code",
   "execution_count": null,
   "metadata": {
    "ExecuteTime": {
     "end_time": "2019-10-12T18:25:58.953031Z",
     "start_time": "2019-10-12T18:25:58.911988Z"
    }
   },
   "outputs": [],
   "source": []
  },
  {
   "cell_type": "code",
   "execution_count": null,
   "metadata": {
    "ExecuteTime": {
     "end_time": "2019-10-12T18:25:58.979517Z",
     "start_time": "2019-10-12T18:25:58.954015Z"
    }
   },
   "outputs": [],
   "source": []
  },
  {
   "cell_type": "markdown",
   "metadata": {},
   "source": [
    "Create a new feature of the day differences between claim received and the day of the incident called Day Differences, which contain the days that come from the Date Received column substracted by the Incident Date column (Date Received - Incident Date). We have this feature to see the time differences between when the claim made with the incident that happen."
   ]
  },
  {
   "cell_type": "code",
   "execution_count": null,
   "metadata": {
    "ExecuteTime": {
     "end_time": "2019-10-12T18:26:01.106092Z",
     "start_time": "2019-10-12T18:25:58.980946Z"
    }
   },
   "outputs": [],
   "source": []
  },
  {
   "cell_type": "markdown",
   "metadata": {},
   "source": [
    "Lets try to visualize the distribution of the Day Differences with all the NaN just to be dropped first"
   ]
  },
  {
   "cell_type": "code",
   "execution_count": null,
   "metadata": {
    "ExecuteTime": {
     "end_time": "2019-10-12T18:26:01.529064Z",
     "start_time": "2019-10-12T18:26:01.107006Z"
    }
   },
   "outputs": [],
   "source": []
  },
  {
   "cell_type": "markdown",
   "metadata": {},
   "source": [
    "If we seen it from the plot, it seems there is days that less than 0 and even over than 1000. Lets try to visualize them both"
   ]
  },
  {
   "cell_type": "code",
   "execution_count": null,
   "metadata": {
    "ExecuteTime": {
     "end_time": "2019-10-12T18:26:01.850621Z",
     "start_time": "2019-10-12T18:26:01.530109Z"
    }
   },
   "outputs": [],
   "source": []
  },
  {
   "cell_type": "code",
   "execution_count": null,
   "metadata": {
    "ExecuteTime": {
     "end_time": "2019-10-12T18:26:02.222300Z",
     "start_time": "2019-10-12T18:26:01.851620Z"
    }
   },
   "outputs": [],
   "source": []
  },
  {
   "cell_type": "markdown",
   "metadata": {},
   "source": [
    "## Question\n",
    "\n",
    "Why do you think there is day that way more than thousand days differences, and why some day differences are less than 0? (claim was made before the incident is like someone predicting a future after all)."
   ]
  },
  {
   "cell_type": "code",
   "execution_count": null,
   "metadata": {},
   "outputs": [],
   "source": []
  },
  {
   "cell_type": "markdown",
   "metadata": {},
   "source": [
    "Remove the $ sign (some data need even more clean up by replacing the ; sign into . sign) from the Claim Amount columns and Close Amount columns, and change those columns datatype into float datatype"
   ]
  },
  {
   "cell_type": "code",
   "execution_count": null,
   "metadata": {
    "ExecuteTime": {
     "end_time": "2019-10-12T18:26:02.462025Z",
     "start_time": "2019-10-12T18:26:02.223265Z"
    }
   },
   "outputs": [],
   "source": []
  },
  {
   "cell_type": "markdown",
   "metadata": {},
   "source": [
    "Create a new columns called Amount Differences by substract the Claim Amount with Close Amount columns"
   ]
  },
  {
   "cell_type": "code",
   "execution_count": null,
   "metadata": {
    "ExecuteTime": {
     "end_time": "2019-10-12T18:26:03.325856Z",
     "start_time": "2019-10-12T18:26:02.463002Z"
    }
   },
   "outputs": [],
   "source": []
  },
  {
   "cell_type": "code",
   "execution_count": null,
   "metadata": {
    "ExecuteTime": {
     "end_time": "2019-10-12T18:26:03.359098Z",
     "start_time": "2019-10-12T18:26:03.326831Z"
    }
   },
   "outputs": [],
   "source": []
  },
  {
   "cell_type": "code",
   "execution_count": null,
   "metadata": {
    "ExecuteTime": {
     "end_time": "2019-10-12T18:26:03.378050Z",
     "start_time": "2019-10-12T18:26:03.363119Z"
    }
   },
   "outputs": [],
   "source": []
  },
  {
   "cell_type": "markdown",
   "metadata": {
    "ExecuteTime": {
     "end_time": "2019-10-12T13:39:07.676434Z",
     "start_time": "2019-10-12T13:39:07.603597Z"
    }
   },
   "source": [
    "Lets try to visualize it again similar to the Day Differences feature, but this time we would use the Amount Differences feature (still just drop the NaN first)"
   ]
  },
  {
   "cell_type": "code",
   "execution_count": null,
   "metadata": {
    "ExecuteTime": {
     "end_time": "2019-10-12T18:26:03.756834Z",
     "start_time": "2019-10-12T18:26:03.379975Z"
    }
   },
   "outputs": [],
   "source": []
  },
  {
   "cell_type": "markdown",
   "metadata": {},
   "source": [
    "There is seems a differences in number that was way far. This time, lets use the Interquartile range (IQR) method to find the datapoint that seems to be an outlier based on the Amount Differences column, show the dataframe, and lets describe the Claim Amount and Close Amount column of the outlier dataframe based on the Amount Differences column"
   ]
  },
  {
   "cell_type": "code",
   "execution_count": null,
   "metadata": {
    "ExecuteTime": {
     "end_time": "2019-10-12T18:26:03.851966Z",
     "start_time": "2019-10-12T18:26:03.803951Z"
    }
   },
   "outputs": [],
   "source": []
  },
  {
   "cell_type": "code",
   "execution_count": null,
   "metadata": {
    "ExecuteTime": {
     "end_time": "2019-10-12T18:26:03.861909Z",
     "start_time": "2019-10-12T18:26:03.852945Z"
    }
   },
   "outputs": [],
   "source": []
  },
  {
   "cell_type": "code",
   "execution_count": null,
   "metadata": {
    "ExecuteTime": {
     "end_time": "2019-10-12T18:26:03.871882Z",
     "start_time": "2019-10-12T18:26:03.862906Z"
    }
   },
   "outputs": [],
   "source": []
  },
  {
   "cell_type": "markdown",
   "metadata": {},
   "source": [
    "It seems that Claim Amount feature really affecting lot of the differences that happen as 75% outlier data that in the Close Amount feature is still 0.\n",
    "\n",
    "## Question\n",
    "\n",
    "I assume that many of this big differences happen because these people tend to request for bigger money than what it should be. Do you agree or disagree with my assumption? why? Try to explain it with the data "
   ]
  },
  {
   "cell_type": "code",
   "execution_count": null,
   "metadata": {},
   "outputs": [],
   "source": []
  },
  {
   "cell_type": "markdown",
   "metadata": {},
   "source": [
    "## Analysis\n",
    "\n",
    "We have try to cleaning some of the data that we have, and now we could try to done few analysis from the data we had. Try to answer this following question.\n",
    "\n",
    "### Question\n",
    "\n",
    "1. Is there Any relationship between the Airport and/or the Airline with the number of the claim that happen and the Claim Type? Also why is there a NaN in the Claim Type column?\n",
    "\n",
    "1. If you realize, there is many different classes in the Status and Disposition column. What pattern you could find in these 2 columns because of this classes variation? is there any relation with the other columns?"
   ]
  },
  {
   "cell_type": "markdown",
   "metadata": {},
   "source": [
    "## Bonus Question\n",
    "\n",
    "Could you find any interesting Insight from our data that you could explain? Try to explain it with the available data"
   ]
  },
  {
   "cell_type": "code",
   "execution_count": null,
   "metadata": {},
   "outputs": [],
   "source": []
  },
  {
   "cell_type": "markdown",
   "metadata": {},
   "source": [
    "To create our dashboard, lets use only the data that was not outlier according to the Amount Differences. As we did not process all the NaN, just drop all those NaN. Save the file as 'tsa_claims_dashboard_ujian.csv', don't include the Index. As we don't want to have too much data in our dashboard, let's just sample 1000 data from our current data.\n",
    "\n",
    "Also, set the random seed to 101."
   ]
  },
  {
   "cell_type": "code",
   "execution_count": 9,
   "metadata": {
    "ExecuteTime": {
     "end_time": "2019-10-12T18:26:03.876870Z",
     "start_time": "2019-10-12T18:26:03.872932Z"
    }
   },
   "outputs": [],
   "source": [
    "np.random.seed(101)"
   ]
  },
  {
   "cell_type": "code",
   "execution_count": null,
   "metadata": {
    "ExecuteTime": {
     "end_time": "2019-10-12T18:26:03.920830Z",
     "start_time": "2019-10-12T18:26:03.877868Z"
    }
   },
   "outputs": [],
   "source": []
  },
  {
   "cell_type": "markdown",
   "metadata": {},
   "source": [
    "Export the data to your SQL database, and try to connect the database to the dashboard"
   ]
  }
 ],
 "metadata": {
  "hide_input": false,
  "kernelspec": {
   "display_name": "Python 3",
   "language": "python",
   "name": "python3"
  },
  "language_info": {
   "codemirror_mode": {
    "name": "ipython",
    "version": 3
   },
   "file_extension": ".py",
   "mimetype": "text/x-python",
   "name": "python",
   "nbconvert_exporter": "python",
   "pygments_lexer": "ipython3",
   "version": "3.7.3"
  },
  "varInspector": {
   "cols": {
    "lenName": 16,
    "lenType": 16,
    "lenVar": 40
   },
   "kernels_config": {
    "python": {
     "delete_cmd_postfix": "",
     "delete_cmd_prefix": "del ",
     "library": "var_list.py",
     "varRefreshCmd": "print(var_dic_list())"
    },
    "r": {
     "delete_cmd_postfix": ") ",
     "delete_cmd_prefix": "rm(",
     "library": "var_list.r",
     "varRefreshCmd": "cat(var_dic_list()) "
    }
   },
   "types_to_exclude": [
    "module",
    "function",
    "builtin_function_or_method",
    "instance",
    "_Feature"
   ],
   "window_display": false
  }
 },
 "nbformat": 4,
 "nbformat_minor": 2
}
